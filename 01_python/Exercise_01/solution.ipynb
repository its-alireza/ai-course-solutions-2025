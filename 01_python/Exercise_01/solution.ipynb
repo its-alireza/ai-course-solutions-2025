{
 "cells": [
  {
   "cell_type": "markdown",
   "metadata": {},
   "source": [
    "<div dir=\"rtl\">\n",
    "\n",
    "# **بخش مفهومی**"
   ]
  },
  {
   "cell_type": "markdown",
   "metadata": {},
   "source": [
    "<div dir=\"rtl\">\n",
    "\n",
    "<img src=\"images/q1.png\" alt=\"سوال_1\" width=\"500\">\n",
    "\n",
    "\n",
    "- **زبان مفسری** (Interpreted Language):    \n",
    "در این زبان‌ ها، کد خط به خط توسط **مفسر (Interpreter)** اجرا میشه و نیازی به تبدیل کل برنامه به فایل اجرایی قبل از اجرا نیست.\n",
    "#### مثال: `Python`, `JavaScript`\n",
    "\n",
    "- **زبان کامپایلری** (Compiled Language):  \n",
    "در این زبان ‌ها اول کل برنامه رو با **کامپایلر (Compiler)** ترجمه می ‌کنه به زبان ماشین و یک فایل اجرایی درست می‌ کنه، بعد اون فایل رو اجرا می‌ کنی.  \n",
    "#### مثال: `C`, `C++`\n",
    "---"
   ]
  },
  {
   "cell_type": "markdown",
   "metadata": {},
   "source": [
    "<div dir=\"rtl\">\n",
    "<img src=\"images/q2.png\" alt=\"سوال_2\" width=\"500\">\n",
    "\n",
    "- **ساده و قابل فهم بودن**:     \n",
    "به دلیل سطح بالا (High-Level) بودن این زبان و نزدیک بودنش به زبان انسان، به نسبت بقیه زبان ها، یادگیریش راحت تره\n",
    "- **وجود کتابخانه‌ های بسیار قوی و متنوع مثل `TensorFlow`, `PyTorch`, `scikit-learn`, ...**\n",
    "- **محبوبیت بالا و جامعه فعال برنامه‌ نویسان**:      \n",
    "به دلیل محبوبیت این زبان و جامعه فعالش معمولا داکیومنت و راهنما های زیادی داره و اگر به مشکلی بخورید از قبل این مشکل مطرح و حل شده\n",
    "\n",
    "\n",
    "---"
   ]
  },
  {
   "cell_type": "markdown",
   "metadata": {},
   "source": [
    "<div dir=\"rtl\">\n",
    "<img src=\"images/q3.png\" alt=\"سوال_3\" width=\"500\">\n",
    "\n",
    "- باید با حروف **(A-Z, a-z)** یا **آندرلاین (_)‌** شروع بشه.\n",
    "- نباید از **علامت ها** (!, @, #, $, ...) استفاده بشه\n",
    "- می‌ تواند شامل **حروف، اعداد و آندرلاین (_)** باشه مثل (`my_var1`)\n",
    "- نمی‌ تواند با **عدد** شروع شود.\n",
    "- نباید از **کلمات رزرو شده** python (مثل `print`, `if`, `class`, `def`, `for`, ...) استفاده بشه\n",
    "- بهتره نام متغیر معنا دار و قابل فهم باشه"
   ]
  },
  {
   "cell_type": "code",
   "execution_count": 1,
   "metadata": {},
   "outputs": [
    {
     "name": "stdout",
     "output_type": "stream",
     "text": [
      "this is a txt\n"
     ]
    }
   ],
   "source": [
    "txt = \"this is a txt\"\n",
    "print(txt)"
   ]
  },
  {
   "cell_type": "code",
   "execution_count": 2,
   "metadata": {},
   "outputs": [
    {
     "ename": "TypeError",
     "evalue": "'str' object is not callable",
     "output_type": "error",
     "traceback": [
      "\u001b[1;31m---------------------------------------------------------------------------\u001b[0m",
      "\u001b[1;31mTypeError\u001b[0m                                 Traceback (most recent call last)",
      "Cell \u001b[1;32mIn[2], line 2\u001b[0m\n\u001b[0;32m      1\u001b[0m \u001b[38;5;28mprint\u001b[39m \u001b[38;5;241m=\u001b[39m \u001b[38;5;124m\"\u001b[39m\u001b[38;5;124mthis is a txt\u001b[39m\u001b[38;5;124m\"\u001b[39m\n\u001b[1;32m----> 2\u001b[0m \u001b[38;5;28;43mprint\u001b[39;49m\u001b[43m(\u001b[49m\u001b[38;5;28;43mprint\u001b[39;49m\u001b[43m)\u001b[49m\n",
      "\u001b[1;31mTypeError\u001b[0m: 'str' object is not callable"
     ]
    }
   ],
   "source": [
    "print = \"this is a txt\"\n",
    "print(print)"
   ]
  },
  {
   "cell_type": "markdown",
   "metadata": {},
   "source": [
    "---"
   ]
  },
  {
   "cell_type": "code",
   "execution_count": null,
   "metadata": {},
   "outputs": [],
   "source": []
  },
  {
   "cell_type": "markdown",
   "metadata": {},
   "source": [
    "<div dir=\"rtl\">\n",
    "<img src=\"images/q4.png\" alt=\"سوال_4\" width=\"500\">\n",
    "\n",
    "- **python** یک زبان حساس به حروف بزرگ و کوچک **(case-sensitive)** است.\n",
    "بنابراین:\n",
    " `name` و `Name` دو متغیر **متفاوت** هستند."
   ]
  },
  {
   "cell_type": "code",
   "execution_count": 2,
   "metadata": {},
   "outputs": [
    {
     "name": "stdout",
     "output_type": "stream",
     "text": [
      "Alireza Emad Toofan\n"
     ]
    }
   ],
   "source": [
    "name = \"Alireza\"\n",
    "Name = \"Emad\"\n",
    "NAME = \"Toofan\"\n",
    "\n",
    "print(name, Name, NAME)"
   ]
  },
  {
   "cell_type": "markdown",
   "metadata": {},
   "source": [
    "---"
   ]
  },
  {
   "cell_type": "markdown",
   "metadata": {},
   "source": [
    "<div dir=\"rtl\">\n",
    "<img src=\"images/q5.png\" alt=\"سوال_5\" width=\"500\">\n",
    "\n",
    "- **بله، مجاز است. اما توصیه نمی شود**  \n",
    "  python از یونیکد (Unicode) پشتیبانی می‌ کنه و می‌ توان نام متغیرها را با حروف فارسی نوشت.\n",
    "  اما توصیه نمیشه چون ممکنه باعث کاهش خوانایی و ناسازگاری و مشکلات فنی بشه\n",
    "---"
   ]
  },
  {
   "cell_type": "markdown",
   "metadata": {},
   "source": [
    "<div dir=\"rtl\">\n",
    "\n",
    "# **بخش کد نویسی**"
   ]
  },
  {
   "cell_type": "markdown",
   "metadata": {},
   "source": [
    "<div dir=\"rtl\">\n",
    "<img src=\"images/q6.png\" alt=\"سوال_6\" width=\"1000\">"
   ]
  },
  {
   "cell_type": "code",
   "execution_count": 1,
   "metadata": {},
   "outputs": [
    {
     "name": "stdout",
     "output_type": "stream",
     "text": [
      "The current temperature in Tehran is 34.5 °C\n",
      "The current temperature in Tehran is 34.5°C\n"
     ]
    }
   ],
   "source": [
    "city = \"Tehran\"\n",
    "temperature = 34.5\n",
    "\n",
    "print(\"The current temperature in\", city, \"is\", temperature, \"°C\")\n",
    "\n",
    "print(f\"The current temperature in {city} is {temperature}°C\")"
   ]
  },
  {
   "cell_type": "markdown",
   "metadata": {},
   "source": [
    "---"
   ]
  },
  {
   "cell_type": "markdown",
   "metadata": {},
   "source": [
    "<div dir=\"rtl\">\n",
    "\n",
    "### **مثال های بیشتر در کلاس:**\n",
    "- حدف فاصله بین 34.5 و °C در روش غیر f-string"
   ]
  },
  {
   "cell_type": "code",
   "execution_count": 2,
   "metadata": {},
   "outputs": [
    {
     "name": "stdout",
     "output_type": "stream",
     "text": [
      "The current temperature in Tehran is 34.5°C\n"
     ]
    }
   ],
   "source": [
    "print(\"The current temperature in\", city, \"is\", str(temperature) + \"°C\")"
   ]
  },
  {
   "cell_type": "code",
   "execution_count": 4,
   "metadata": {},
   "outputs": [
    {
     "name": "stdout",
     "output_type": "stream",
     "text": [
      "The current temperature in Tehran is 34.5°C\n"
     ]
    }
   ],
   "source": [
    "print(\"The current temperature in\", city, \"is\", temperature, \"\\b°C\")"
   ]
  },
  {
   "cell_type": "code",
   "execution_count": 6,
   "metadata": {},
   "outputs": [
    {
     "name": "stdout",
     "output_type": "stream",
     "text": [
      "The current temperature in Tehran is 34.5°C\n"
     ]
    }
   ],
   "source": [
    "temperature = \"34.5\"\n",
    "\n",
    "print(\"The current temperature in\", city, \"is\", temperature + \"°C\")"
   ]
  },
  {
   "cell_type": "markdown",
   "metadata": {},
   "source": [
    "---"
   ]
  },
  {
   "cell_type": "markdown",
   "metadata": {},
   "source": [
    "<div dir=\"rtl\">\n",
    "<img src=\"images/q7.png\" alt=\"سوال_7\" width=\"1000\">"
   ]
  },
  {
   "cell_type": "code",
   "execution_count": 9,
   "metadata": {},
   "outputs": [
    {
     "name": "stdout",
     "output_type": "stream",
     "text": [
      "My name is Mohammad Jafari and I am 27 years old.\n"
     ]
    }
   ],
   "source": [
    "first_name, last_name, age = \"Mohammad\", 'Jafari', 27\n",
    "\n",
    "sentence = f'My name is {first_name} {last_name} and I am {age} years old.'\n",
    "\n",
    "print(sentence)"
   ]
  },
  {
   "cell_type": "markdown",
   "metadata": {},
   "source": [
    "---"
   ]
  },
  {
   "cell_type": "markdown",
   "metadata": {},
   "source": [
    "<div dir=\"rtl\">\n",
    "\n",
    "### **مثال های بیشتر در کلاس:**\n",
    "- کار کردن با (\") و (') و نحوه استفاده در تعریف string\n",
    "- رفتن به خط بعد (enter) در string"
   ]
  },
  {
   "cell_type": "code",
   "execution_count": 14,
   "metadata": {},
   "outputs": [
    {
     "name": "stdout",
     "output_type": "stream",
     "text": [
      "My name is Mohammad Jafari and I'm 27 years old.\n"
     ]
    }
   ],
   "source": [
    "# (I am) ----> (I'm) \n",
    "\n",
    "sentence_2 = f\"My name is {first_name} {last_name} and I'm {age} years old.\"\n",
    "print(sentence_2)"
   ]
  },
  {
   "cell_type": "code",
   "execution_count": 15,
   "metadata": {},
   "outputs": [
    {
     "name": "stdout",
     "output_type": "stream",
     "text": [
      "My name is Mohammad Jafari and I'm 27 years old.\n"
     ]
    }
   ],
   "source": [
    "sentence_3 = f\"\"\"My name is {first_name} {last_name} and I'm {age} years old.\"\"\"\n",
    "print(sentence_2)"
   ]
  },
  {
   "cell_type": "code",
   "execution_count": 16,
   "metadata": {},
   "outputs": [
    {
     "name": "stdout",
     "output_type": "stream",
     "text": [
      "My name is Mohammad Jafari and I'm 27 years old.\n"
     ]
    }
   ],
   "source": [
    "sentence_3 = f'''My name is {first_name} {last_name} and I'm {age} years old.'''\n",
    "print(sentence_2)\n"
   ]
  },
  {
   "cell_type": "code",
   "execution_count": 33,
   "metadata": {},
   "outputs": [
    {
     "name": "stdout",
     "output_type": "stream",
     "text": [
      "this is \"\n",
      "this is \"\n",
      "this is \" \n"
     ]
    }
   ],
   "source": [
    "txt = '''this is \"'''\n",
    "\n",
    "txt_2 = \"\"\"this is \\\"\"\"\"\n",
    "\n",
    "txt_3 = \"\"\"this is \" \"\"\"\n",
    "\n",
    "\n",
    "print(txt)\n",
    "print(txt_2)\n",
    "print(txt_3)"
   ]
  },
  {
   "cell_type": "code",
   "execution_count": 34,
   "metadata": {},
   "outputs": [
    {
     "name": "stdout",
     "output_type": "stream",
     "text": [
      "\"this is \"\" txt\"\n",
      "'this is '' txt'\n"
     ]
    }
   ],
   "source": [
    "print('\"this is \"\" txt\"') \n",
    "\n",
    "print(\"'this is '' txt'\") "
   ]
  },
  {
   "cell_type": "code",
   "execution_count": 32,
   "metadata": {},
   "outputs": [
    {
     "name": "stdout",
     "output_type": "stream",
     "text": [
      "this is my \n",
      "new line\n"
     ]
    }
   ],
   "source": [
    "txt_4 = \"this is my \\nnew line\"\n",
    "\n",
    "print(txt_4)"
   ]
  },
  {
   "cell_type": "code",
   "execution_count": 37,
   "metadata": {},
   "outputs": [
    {
     "name": "stdout",
     "output_type": "stream",
     "text": [
      "this is my\n",
      "new line\n"
     ]
    }
   ],
   "source": [
    "txt_5 = \"\"\"this is my\n",
    "new line\"\"\"\n",
    "\n",
    "print(txt_5)"
   ]
  },
  {
   "cell_type": "code",
   "execution_count": 38,
   "metadata": {},
   "outputs": [
    {
     "name": "stdout",
     "output_type": "stream",
     "text": [
      "this is my\n",
      "new line\n"
     ]
    }
   ],
   "source": [
    "txt_6 = \"\"\"this is my\n",
    "new line\"\"\"\n",
    "\n",
    "print(txt_6)"
   ]
  },
  {
   "cell_type": "markdown",
   "metadata": {},
   "source": [
    "---"
   ]
  }
 ],
 "metadata": {
  "kernelspec": {
   "display_name": "base",
   "language": "python",
   "name": "python3"
  },
  "language_info": {
   "codemirror_mode": {
    "name": "ipython",
    "version": 3
   },
   "file_extension": ".py",
   "mimetype": "text/x-python",
   "name": "python",
   "nbconvert_exporter": "python",
   "pygments_lexer": "ipython3",
   "version": "3.12.7"
  }
 },
 "nbformat": 4,
 "nbformat_minor": 4
}
